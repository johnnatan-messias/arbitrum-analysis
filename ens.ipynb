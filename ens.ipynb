{
 "cells": [
  {
   "attachments": {},
   "cell_type": "markdown",
   "metadata": {},
   "source": [
    "# Gathering ENS Data\n"
   ]
  },
  {
   "attachments": {},
   "cell_type": "markdown",
   "metadata": {},
   "source": [
    "**Note:** This code uses part of my code publicly avaiable at: https://github.com/johnnatan-messias/arbitrum-analysis\n"
   ]
  },
  {
   "cell_type": "code",
   "execution_count": 1,
   "metadata": {},
   "outputs": [],
   "source": [
    "import os\n",
    "import json\n",
    "import gzip\n",
    "import pandas as pd\n",
    "pd.set_option('display.precision', 18)\n",
    "pd.set_option('max_colwidth', None)"
   ]
  },
  {
   "cell_type": "code",
   "execution_count": 2,
   "metadata": {},
   "outputs": [],
   "source": [
    "data_dir = './data/'\n",
    "os.makedirs(data_dir, exist_ok=True)"
   ]
  },
  {
   "cell_type": "code",
   "execution_count": 3,
   "metadata": {},
   "outputs": [],
   "source": [
    "def load_addresses():\n",
    "    with open(data_dir+'addresses.json', 'r') as file:\n",
    "        top_addresses_dict = json.load(file)\n",
    "\n",
    "    print(\"There are {} addresses in the dictionary\".format(\n",
    "        len(top_addresses_dict)))\n",
    "    return top_addresses_dict"
   ]
  },
  {
   "cell_type": "code",
   "execution_count": 4,
   "metadata": {},
   "outputs": [
    {
     "name": "stdout",
     "output_type": "stream",
     "text": [
      "There are 3191 addresses in the dictionary\n"
     ]
    }
   ],
   "source": [
    "# Addresses already identified can be added to the json file ./data/addresses.json\n",
    "addresses_dict = load_addresses()"
   ]
  },
  {
   "attachments": {},
   "cell_type": "markdown",
   "metadata": {},
   "source": [
    "## Gathering ENS data\n",
    "\n",
    "For most projects, knowing the identity or ownership of public wallet addresses is crucial. Therefore, here I gathered information of ENS domains recorded on the Ethereum blockchain through an archive node.\n",
    "\n",
    "From a total of 624,739 addresses in our Arbitrum data set, I was able to find 95,578 unique addresses that have an ENS domain registered on the Ethereum blockchain. These addresses are persisted in the ./data/addresses_dic.json.gz file.\n",
    "\n",
    "Further, I collected a list of the ownership of 3191 addresses from the Etherscan API (top ETH holders), Compound website, and Sybil-List to compose our data of inferred addresses. These addresses are persisted in the json ./data/addresses.json file. However, we're not going to use them in this analysis but it shows that the code is ready for future projects. More details are available at section 4 of the following paper https://arxiv.org/pdf/2305.17655.pdf\n"
   ]
  },
  {
   "cell_type": "code",
   "execution_count": 5,
   "metadata": {},
   "outputs": [
    {
     "name": "stdout",
     "output_type": "stream",
     "text": [
      "The most recent block number in the node's chain is 19234234\n"
     ]
    }
   ],
   "source": [
    "from web3 import Web3\n",
    "from ethereum import *\n",
    "\n",
    "eth_node = os.environ['ETHEREUM_NODE_URL']\n",
    "w3 = Web3(Web3.HTTPProvider(eth_node))\n",
    "print(\"The most recent block number in the node's chain is\", w3.eth.block_number)"
   ]
  },
  {
   "cell_type": "code",
   "execution_count": 6,
   "metadata": {},
   "outputs": [],
   "source": [
    "ens_contract_address = \"0x3671ae578e63fdf66ad4f3e12cc0c0d71ac7510c\""
   ]
  },
  {
   "cell_type": "code",
   "execution_count": 7,
   "metadata": {},
   "outputs": [],
   "source": [
    "ens_contract = get_contract(\n",
    "    w3, contract_address=Web3.to_checksum_address(ens_contract_address))"
   ]
  },
  {
   "cell_type": "code",
   "execution_count": 8,
   "metadata": {},
   "outputs": [
    {
     "data": {
      "text/plain": [
       "['0x12bEc274578060E2E2701f1ec7DC3b7576e50cAC',\n",
       " '0x1f9090aaE28b8a3dCeaDf281B0F12828e676c326']"
      ]
     },
     "execution_count": 8,
     "metadata": {},
     "output_type": "execute_result"
    }
   ],
   "source": [
    "addresses_to_check = list(map(Web3.to_checksum_address, [\n",
    "    '0x12bEc274578060E2E2701f1ec7DC3b7576e50cAC', '0x1f9090aaE28b8a3dCeaDf281B0F12828e676c326']))\n",
    "addresses_to_check"
   ]
  },
  {
   "cell_type": "code",
   "execution_count": 9,
   "metadata": {},
   "outputs": [
    {
     "name": "stdout",
     "output_type": "stream",
     "text": [
      "Getting ENS names for the addresses:  ['0x12bEc274578060E2E2701f1ec7DC3b7576e50cAC', '0x1f9090aaE28b8a3dCeaDf281B0F12828e676c326']\n",
      "['rubesy999.eth', 'rsync-builder.eth']\n"
     ]
    }
   ],
   "source": [
    "print(\"Getting ENS names for the addresses: \", addresses_to_check)\n",
    "print(ens_contract.functions.getNames(addresses_to_check).call())"
   ]
  },
  {
   "cell_type": "code",
   "execution_count": 10,
   "metadata": {},
   "outputs": [
    {
     "name": "stdout",
     "output_type": "stream",
     "text": [
      "Getting the ENS address for the ENS name rubesy999.eth\n"
     ]
    },
    {
     "data": {
      "text/plain": [
       "'0x12bec274578060e2e2701f1ec7dc3b7576e50cac'"
      ]
     },
     "execution_count": 10,
     "metadata": {},
     "output_type": "execute_result"
    }
   ],
   "source": [
    "print(\"Getting the ENS address for the ENS name rubesy999.eth\")\n",
    "w3.ens.address('rubesy999.eth').lower()"
   ]
  },
  {
   "cell_type": "code",
   "execution_count": 11,
   "metadata": {},
   "outputs": [
    {
     "data": {
      "text/plain": [
       "True"
      ]
     },
     "execution_count": 11,
     "metadata": {},
     "output_type": "execute_result"
    }
   ],
   "source": [
    "w3.ens.address('rubesy999.eth').lower() == addresses_to_check[0].lower()"
   ]
  }
 ],
 "metadata": {
  "kernelspec": {
   "display_name": "base",
   "language": "python",
   "name": "python3"
  },
  "language_info": {
   "codemirror_mode": {
    "name": "ipython",
    "version": 3
   },
   "file_extension": ".py",
   "mimetype": "text/x-python",
   "name": "python",
   "nbconvert_exporter": "python",
   "pygments_lexer": "ipython3",
   "version": "3.11.7"
  },
  "orig_nbformat": 4
 },
 "nbformat": 4,
 "nbformat_minor": 2
}
